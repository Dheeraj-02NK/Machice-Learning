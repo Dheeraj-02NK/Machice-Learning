{
 "cells": [
  {
   "cell_type": "markdown",
   "id": "a59e8234",
   "metadata": {},
   "source": [
    "## ColorMatch Game\n",
    "\n",
    "The code you provided is a simple color matching game using Tkinter in Python. When you run the code, a GUI window will appear with instructions, a score label, a time left label, a label to display colors, and a text entry box for typing in colors.\n",
    "\n",
    "To play the game, you need to type the name of the displayed color in the text entry box and press Enter. If the typed color matches the displayed color, your score increases by 1. The game lasts for 30 seconds, and the countdown timer is displayed. The game will start when you press Enter for the first time.\n",
    "\n",
    "You can copy the code and run it in a Python environment to play the game. Make sure you have the Tkinter module installed before running the code."
   ]
  },
  {
   "cell_type": "code",
   "execution_count": 23,
   "id": "59bd75a7",
   "metadata": {},
   "outputs": [],
   "source": [
    "import tkinter\n",
    "import random\n",
    "\n",
    "# List of possible colors.\n",
    "colours = ['Red', 'Blue', 'Green', 'Pink', 'Black',\n",
    "           'Yellow', 'Orange', 'White', 'Purple', 'Brown']\n",
    "score = 0\n",
    "\n",
    "# The game time left, initially 30 seconds.\n",
    "timeleft = 30"
   ]
  },
  {
   "cell_type": "code",
   "execution_count": 17,
   "id": "0f7ee407",
   "metadata": {},
   "outputs": [],
   "source": [
    "# Function that will start the game.\n",
    "def startGame(event):\n",
    "    if timeleft == 30:\n",
    "        # Start the countdown timer.\n",
    "        countdown()\n",
    "        \n",
    "    # Run the function to choose the next color.\n",
    "    nextColour()"
   ]
  },
  {
   "cell_type": "code",
   "execution_count": 18,
   "id": "606e571c",
   "metadata": {},
   "outputs": [],
   "source": [
    "# Function to choose and display the next color.\n",
    "def nextColour():\n",
    "    global score\n",
    "    global timeleft\n",
    "\n",
    "    # If a game is currently in play.\n",
    "    if timeleft > 0:\n",
    "        # Make the text entry box active.\n",
    "        e.focus_set()\n",
    "\n",
    "        # If the color typed is equal to the color of the text.\n",
    "        if e.get().lower() == colours[1].lower():\n",
    "            score += 1\n",
    "\n",
    "        # Clear the text entry box.\n",
    "        e.delete(0, tkinter.END)\n",
    "        \n",
    "        random.shuffle(colours)\n",
    "        \n",
    "        # Change the color to type by changing the text and the color to a random color value.\n",
    "        label.config(fg=str(colours[1]), text=str(colours[0]))\n",
    "        \n",
    "        # Update the score.\n",
    "        scoreLabel.config(text=\"Score: \" + str(score))"
   ]
  },
  {
   "cell_type": "code",
   "execution_count": 19,
   "id": "c38db2d8",
   "metadata": {},
   "outputs": [],
   "source": [
    "# Countdown timer function.\n",
    "def countdown():\n",
    "    global timeleft\n",
    "\n",
    "    # If a game is in play.\n",
    "    if timeleft > 0:\n",
    "        # Decrement the timer.\n",
    "        timeleft -= 1\n",
    "        \n",
    "        # Update the time left label.\n",
    "        timeLabel.config(text=\"Time left: \" + str(timeleft))\n",
    "        \n",
    "        # Run the function again after 1 second.\n",
    "        timeLabel.after(1000, countdown)"
   ]
  },
  {
   "cell_type": "code",
   "execution_count": 20,
   "id": "c3960f4a",
   "metadata": {},
   "outputs": [
    {
     "data": {
      "text/plain": [
       "''"
      ]
     },
     "execution_count": 20,
     "metadata": {},
     "output_type": "execute_result"
    }
   ],
   "source": [
    "# Create a GUI window.\n",
    "root = tkinter.Tk()\n",
    "\n",
    "# Set the title.\n",
    "root.title(\"COLORGAME\")\n",
    "\n",
    "# Set the size.\n",
    "root.geometry(\"375x200\")"
   ]
  },
  {
   "cell_type": "code",
   "execution_count": 21,
   "id": "dae52fd1",
   "metadata": {},
   "outputs": [],
   "source": [
    "# Add an instructions label.\n",
    "instructions = tkinter.Label(root, text=\"Type in the colour of the words, and not the word text!\", font=('Helvetica', 12))\n",
    "instructions.pack()\n",
    "\n",
    "# Add a score label.\n",
    "scoreLabel = tkinter.Label(root, text=\"Press enter to start\", font=('Helvetica', 12))\n",
    "scoreLabel.pack()\n",
    "\n",
    "# Add a time left label.\n",
    "timeLabel = tkinter.Label(root, text=\"Time left: \" + str(timeleft), font=('Helvetica', 12))\n",
    "timeLabel.pack()"
   ]
  },
  {
   "cell_type": "code",
   "execution_count": 22,
   "id": "2db9f4f1",
   "metadata": {},
   "outputs": [],
   "source": [
    "# Add a label for displaying the colors.\n",
    "label = tkinter.Label(root, font=('Helvetica', 60))\n",
    "label.pack()\n",
    "\n",
    "# Add a text entry box for typing in colors.\n",
    "e = tkinter.Entry(root)\n",
    "\n",
    "# Run the 'startGame' function when the enter key is pressed.\n",
    "root.bind('<Return>', startGame)\n",
    "e.pack()\n",
    "\n",
    "# Set focus on the entry box.\n",
    "e.focus_set()\n",
    "\n",
    "# Start the GUI.\n",
    "root.mainloop()"
   ]
  },
  {
   "cell_type": "code",
   "execution_count": null,
   "id": "eb1ae80a",
   "metadata": {},
   "outputs": [],
   "source": []
  },
  {
   "cell_type": "code",
   "execution_count": null,
   "id": "f7a0121d",
   "metadata": {},
   "outputs": [],
   "source": [
    "\n"
   ]
  }
 ],
 "metadata": {
  "kernelspec": {
   "display_name": "Python 3 (ipykernel)",
   "language": "python",
   "name": "python3"
  },
  "language_info": {
   "codemirror_mode": {
    "name": "ipython",
    "version": 3
   },
   "file_extension": ".py",
   "mimetype": "text/x-python",
   "name": "python",
   "nbconvert_exporter": "python",
   "pygments_lexer": "ipython3",
   "version": "3.9.13"
  }
 },
 "nbformat": 4,
 "nbformat_minor": 5
}
