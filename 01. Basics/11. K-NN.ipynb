{
 "cells": [
  {
   "cell_type": "markdown",
   "id": "4b38cdcb",
   "metadata": {},
   "source": [
    "### Write a program to implement k-Nearest Neighbour algorithm to classify the iris data set. Print both correct and wrong predictions."
   ]
  },
  {
   "cell_type": "code",
   "execution_count": 1,
   "id": "002b4f97",
   "metadata": {},
   "outputs": [
    {
     "name": "stderr",
     "output_type": "stream",
     "text": [
      "C:\\Users\\dheer\\anaconda3\\lib\\site-packages\\scipy\\__init__.py:155: UserWarning: A NumPy version >=1.18.5 and <1.25.0 is required for this version of SciPy (detected version 1.26.1\n",
      "  warnings.warn(f\"A NumPy version >={np_minversion} and <{np_maxversion}\"\n"
     ]
    },
    {
     "name": "stdout",
     "output_type": "stream",
     "text": [
      "Correct Prediction: Actual = 1, Predicted = 1\n",
      "Correct Prediction: Actual = 0, Predicted = 0\n",
      "Correct Prediction: Actual = 2, Predicted = 2\n",
      "Correct Prediction: Actual = 1, Predicted = 1\n",
      "Correct Prediction: Actual = 1, Predicted = 1\n",
      "Correct Prediction: Actual = 0, Predicted = 0\n",
      "Correct Prediction: Actual = 1, Predicted = 1\n",
      "Correct Prediction: Actual = 2, Predicted = 2\n",
      "Correct Prediction: Actual = 1, Predicted = 1\n",
      "Correct Prediction: Actual = 1, Predicted = 1\n",
      "Correct Prediction: Actual = 2, Predicted = 2\n",
      "Correct Prediction: Actual = 0, Predicted = 0\n",
      "Correct Prediction: Actual = 0, Predicted = 0\n",
      "Correct Prediction: Actual = 0, Predicted = 0\n",
      "Correct Prediction: Actual = 0, Predicted = 0\n",
      "Correct Prediction: Actual = 1, Predicted = 1\n",
      "Correct Prediction: Actual = 2, Predicted = 2\n",
      "Correct Prediction: Actual = 1, Predicted = 1\n",
      "Correct Prediction: Actual = 1, Predicted = 1\n",
      "Correct Prediction: Actual = 2, Predicted = 2\n",
      "Correct Prediction: Actual = 0, Predicted = 0\n",
      "Correct Prediction: Actual = 2, Predicted = 2\n",
      "Correct Prediction: Actual = 0, Predicted = 0\n",
      "Correct Prediction: Actual = 2, Predicted = 2\n",
      "Correct Prediction: Actual = 2, Predicted = 2\n",
      "Correct Prediction: Actual = 2, Predicted = 2\n",
      "Correct Prediction: Actual = 2, Predicted = 2\n",
      "Correct Prediction: Actual = 2, Predicted = 2\n",
      "Correct Prediction: Actual = 0, Predicted = 0\n",
      "Correct Prediction: Actual = 0, Predicted = 0\n",
      "Correct Prediction: Actual = 0, Predicted = 0\n",
      "Correct Prediction: Actual = 0, Predicted = 0\n",
      "Correct Prediction: Actual = 1, Predicted = 1\n",
      "Correct Prediction: Actual = 0, Predicted = 0\n",
      "Correct Prediction: Actual = 0, Predicted = 0\n",
      "Correct Prediction: Actual = 2, Predicted = 2\n",
      "Correct Prediction: Actual = 1, Predicted = 1\n",
      "Correct Prediction: Actual = 0, Predicted = 0\n",
      "Correct Prediction: Actual = 0, Predicted = 0\n",
      "Correct Prediction: Actual = 0, Predicted = 0\n",
      "Correct Prediction: Actual = 2, Predicted = 2\n",
      "Correct Prediction: Actual = 1, Predicted = 1\n",
      "Correct Prediction: Actual = 1, Predicted = 1\n",
      "Correct Prediction: Actual = 0, Predicted = 0\n",
      "Correct Prediction: Actual = 0, Predicted = 0\n",
      "Accuracy: 100.00%\n",
      "Total Correct Predictions: 45\n",
      "Total Wrong Predictions: 0\n"
     ]
    },
    {
     "name": "stderr",
     "output_type": "stream",
     "text": [
      "C:\\Users\\dheer\\anaconda3\\lib\\site-packages\\sklearn\\neighbors\\_classification.py:228: FutureWarning: Unlike other reduction functions (e.g. `skew`, `kurtosis`), the default behavior of `mode` typically preserves the axis it acts along. In SciPy 1.11.0, this behavior will change: the default value of `keepdims` will become False, the `axis` over which the statistic is taken will be eliminated, and the value None will no longer be accepted. Set `keepdims` to True or False to avoid this warning.\n",
      "  mode, _ = stats.mode(_y[neigh_ind, k], axis=1)\n"
     ]
    }
   ],
   "source": [
    "from sklearn.datasets import load_iris\n",
    "from sklearn.model_selection import train_test_split\n",
    "from sklearn.neighbors import KNeighborsClassifier\n",
    "from sklearn.metrics import accuracy_score\n",
    "\n",
    "iris = load_iris()\n",
    "X = iris.data\n",
    "y = iris.target\n",
    "\n",
    "X_train, X_test, y_train, y_test = train_test_split(X, y, test_size=0.3, random_state=42)\n",
    "\n",
    "k = 3\n",
    "knn = KNeighborsClassifier(n_neighbors=k)\n",
    "\n",
    "knn.fit(X_train, y_train)\n",
    "\n",
    "y_pred = knn.predict(X_test)\n",
    "\n",
    "accuracy = accuracy_score(y_test, y_pred)\n",
    "\n",
    "correct_predictions = 0\n",
    "wrong_predictions = 0\n",
    "\n",
    "for i in range(len(y_test)):\n",
    "    if y_test[i] == y_pred[i]:\n",
    "        print(f\"Correct Prediction: Actual = {y_test[i]}, Predicted = {y_pred[i]}\")\n",
    "        correct_predictions += 1\n",
    "    else:\n",
    "        print(f\"Wrong Prediction: Actual = {y_test[i]}, Predicted = {y_pred[i]}\")\n",
    "        wrong_predictions += 1\n",
    "\n",
    "print(f\"Accuracy: {accuracy * 100:.2f}%\")\n",
    "print(f\"Total Correct Predictions: {correct_predictions}\")\n",
    "print(f\"Total Wrong Predictions: {wrong_predictions}\")"
   ]
  },
  {
   "cell_type": "code",
   "execution_count": null,
   "id": "5001a369",
   "metadata": {},
   "outputs": [],
   "source": []
  }
 ],
 "metadata": {
  "kernelspec": {
   "display_name": "Python 3 (ipykernel)",
   "language": "python",
   "name": "python3"
  },
  "language_info": {
   "codemirror_mode": {
    "name": "ipython",
    "version": 3
   },
   "file_extension": ".py",
   "mimetype": "text/x-python",
   "name": "python",
   "nbconvert_exporter": "python",
   "pygments_lexer": "ipython3",
   "version": "3.9.13"
  }
 },
 "nbformat": 4,
 "nbformat_minor": 5
}
