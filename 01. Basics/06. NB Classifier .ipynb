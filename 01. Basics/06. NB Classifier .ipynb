{
 "cells": [
  {
   "cell_type": "markdown",
   "id": "f898163c",
   "metadata": {},
   "source": [
    "### Implement the naïve Bayesian classifier for a sample training data set stored as a .CSV file. Compute the accuracy of the classifier, considering few test data sets."
   ]
  },
  {
   "cell_type": "code",
   "execution_count": 1,
   "id": "e1fcfe19",
   "metadata": {},
   "outputs": [
    {
     "name": "stdout",
     "output_type": "stream",
     "text": [
      "Accuracy: 1.0\n",
      "Accuracy on new data set: 1.0\n"
     ]
    }
   ],
   "source": [
    "# test_data should contain all possible outputs values that can be given to any attribute\n",
    "import pandas as pd\n",
    "from sklearn.naive_bayes import GaussianNB\n",
    "from sklearn.model_selection import train_test_split\n",
    "from sklearn.metrics import accuracy_score\n",
    "\n",
    "def gaussian_naive_bayes(data, test_data):\n",
    "    X = data.iloc[:, :-1]\n",
    "    y = data.iloc[:, -1]\n",
    "    X = pd.get_dummies(X)\n",
    "    X_train, X_test, y_train, y_test = train_test_split(X, y, test_size=0.2, random_state=42)\n",
    "\n",
    "    nb = GaussianNB()\n",
    "    nb.fit(X_train, y_train)\n",
    "    y_pred = nb.predict(X_test)\n",
    "    accuracy = accuracy_score(y_test, y_pred)\n",
    "\n",
    "    print(\"Accuracy:\", accuracy)\n",
    "\n",
    "    y_pred_new = nb.predict(pd.get_dummies(test_data.iloc[:, :-1]))\n",
    "    accuracy_new = accuracy_score(test_data.iloc[:, -1], y_pred_new)\n",
    "\n",
    "    print(\"Accuracy on new data set:\", accuracy_new)\n",
    "\n",
    "if __name__ == \"__main__\":\n",
    "    data = pd.read_csv(\"test_data.csv\")\n",
    "    test_data = pd.read_csv(\"test_data.csv\")\n",
    "    gaussian_naive_bayes(data, test_data)"
   ]
  },
  {
   "cell_type": "code",
   "execution_count": null,
   "id": "f965ac75",
   "metadata": {},
   "outputs": [],
   "source": []
  }
 ],
 "metadata": {
  "kernelspec": {
   "display_name": "Python 3 (ipykernel)",
   "language": "python",
   "name": "python3"
  },
  "language_info": {
   "codemirror_mode": {
    "name": "ipython",
    "version": 3
   },
   "file_extension": ".py",
   "mimetype": "text/x-python",
   "name": "python",
   "nbconvert_exporter": "python",
   "pygments_lexer": "ipython3",
   "version": "3.9.13"
  }
 },
 "nbformat": 4,
 "nbformat_minor": 5
}
