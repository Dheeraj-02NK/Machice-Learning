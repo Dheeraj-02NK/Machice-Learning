{
 "cells": [
  {
   "cell_type": "markdown",
   "id": "bcc83637",
   "metadata": {},
   "source": [
    "### Demonstrate the working of EM algorithm to cluster a set of data stored in a .CSV file."
   ]
  },
  {
   "cell_type": "code",
   "execution_count": 1,
   "id": "2acf7cac",
   "metadata": {},
   "outputs": [
    {
     "name": "stdout",
     "output_type": "stream",
     "text": [
      "Cluster Labels:\n",
      "[0 0 0 0 2 2 1]\n"
     ]
    }
   ],
   "source": [
    "import pandas as pd\n",
    "import numpy as np\n",
    "from sklearn.mixture import GaussianMixture\n",
    "data = pd.read_csv('data.csv')\n",
    "X = data.values\n",
    "num_clusters = 3\n",
    "gmm = GaussianMixture(n_components=num_clusters)\n",
    "gmm.fit(X)\n",
    "labels = gmm.predict(X)\n",
    "print('Cluster Labels:')\n",
    "print(labels)"
   ]
  },
  {
   "cell_type": "code",
   "execution_count": null,
   "id": "e9285790",
   "metadata": {},
   "outputs": [],
   "source": []
  }
 ],
 "metadata": {
  "kernelspec": {
   "display_name": "Python 3 (ipykernel)",
   "language": "python",
   "name": "python3"
  },
  "language_info": {
   "codemirror_mode": {
    "name": "ipython",
    "version": 3
   },
   "file_extension": ".py",
   "mimetype": "text/x-python",
   "name": "python",
   "nbconvert_exporter": "python",
   "pygments_lexer": "ipython3",
   "version": "3.9.13"
  }
 },
 "nbformat": 4,
 "nbformat_minor": 5
}
